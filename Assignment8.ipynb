{
 "cells": [
  {
   "cell_type": "markdown",
   "id": "a5585550-9836-48ab-b24b-0665339c429b",
   "metadata": {},
   "source": [
    "Assignment 8"
   ]
  },
  {
   "cell_type": "markdown",
   "id": "0295d0ed-481a-48f3-a1c9-fb1cc74ebd8f",
   "metadata": {},
   "source": [
    "Q1. What is an exception in python? Write the difference between Exceptions and Syntax errors."
   ]
  },
  {
   "cell_type": "markdown",
   "id": "ed848d17-1f4e-426e-a596-b421d9ed402c",
   "metadata": {},
   "source": [
    "Ans: An exception is an event that occurs during the program execution and disrupts the normal flow of the program's                execution.\n",
    "    Difference:\n",
    "    1. An exception is an event that occurs during the program execution and disrupts the normal flow of the program's                execution. On the other hand syntax error are those errors detected during the compilation phase by the compiler\n",
    "       when our code does not follow the syntactical rules of the programming language.\n",
    "    2. Exception can happen at runtime. However, syntax error happen at compile-time.\n",
    "    3. Exceptions can be cought and handled. On the other hand syntax error can not be cought or handled."
   ]
  },
  {
   "cell_type": "markdown",
   "id": "729ac3f0-187d-498c-ae8f-6f5cbd7ec4cd",
   "metadata": {},
   "source": [
    "Q2. What happens when an exception is not handled? Explain with an example."
   ]
  },
  {
   "cell_type": "markdown",
   "id": "7f69cb5f-b831-4124-bbf8-7365bfbf6d5a",
   "metadata": {},
   "source": [
    "Ans: If an exception is not handled, then it can result in the termination of the program."
   ]
  },
  {
   "cell_type": "code",
   "execution_count": 1,
   "id": "7f52fe7a-a1a3-4a27-8b3b-8dfe6cc6f211",
   "metadata": {},
   "outputs": [
    {
     "name": "stdin",
     "output_type": "stream",
     "text": [
      "Enter a no:  5\n",
      "Enter a no:  0\n"
     ]
    },
    {
     "ename": "ZeroDivisionError",
     "evalue": "division by zero",
     "output_type": "error",
     "traceback": [
      "\u001b[0;31m---------------------------------------------------------------------------\u001b[0m",
      "\u001b[0;31mZeroDivisionError\u001b[0m                         Traceback (most recent call last)",
      "Cell \u001b[0;32mIn[1], line 4\u001b[0m\n\u001b[1;32m      2\u001b[0m a\u001b[38;5;241m=\u001b[39m\u001b[38;5;28mint\u001b[39m(\u001b[38;5;28minput\u001b[39m(\u001b[38;5;124m\"\u001b[39m\u001b[38;5;124mEnter a no: \u001b[39m\u001b[38;5;124m\"\u001b[39m))     \u001b[38;5;66;03m# If we enter b=0, and run the program, then this code generates an exception.\u001b[39;00m\n\u001b[1;32m      3\u001b[0m b\u001b[38;5;241m=\u001b[39m\u001b[38;5;28mint\u001b[39m(\u001b[38;5;28minput\u001b[39m(\u001b[38;5;124m\"\u001b[39m\u001b[38;5;124mEnter a no: \u001b[39m\u001b[38;5;124m\"\u001b[39m))     \u001b[38;5;66;03m#(ZeroDivisonError occur). If we handle the exception skip the code where exception occurs\u001b[39;00m\n\u001b[0;32m----> 4\u001b[0m result\u001b[38;5;241m=\u001b[39m\u001b[43ma\u001b[49m\u001b[38;5;241;43m/\u001b[39;49m\u001b[43mb\u001b[49m                       \u001b[38;5;66;03m# and print the exception.\u001b[39;00m\n\u001b[1;32m      5\u001b[0m \u001b[38;5;28mprint\u001b[39m(result)\n",
      "\u001b[0;31mZeroDivisionError\u001b[0m: division by zero"
     ]
    }
   ],
   "source": [
    "#consider an example:\n",
    "a=int(input(\"Enter a no: \"))     # If we enter b=0, and run the program, then this code generates an exception.\n",
    "b=int(input(\"Enter a no: \"))     #(ZeroDivisonError occur). If we handle the exception skip the code where exception occurs\n",
    "result=a/b                       # and print the exception.\n",
    "print(result)"
   ]
  },
  {
   "cell_type": "markdown",
   "id": "72d7b9f0-84f5-463b-a2c9-57e991019ce0",
   "metadata": {},
   "source": [
    "Q3. Which python statements are used to catch and handled the exceptions? Explain with an example."
   ]
  },
  {
   "cell_type": "markdown",
   "id": "db875df1-4782-4fb0-b194-753a9e013d59",
   "metadata": {},
   "source": [
    "Ans: Try and except statements are used to catch and handle exceptions in python. "
   ]
  },
  {
   "cell_type": "code",
   "execution_count": 2,
   "id": "70e29596-1bdf-4e54-8f42-7f5e19d6600c",
   "metadata": {},
   "outputs": [
    {
     "name": "stdout",
     "output_type": "stream",
     "text": [
      "ZeroDivisonError occur\n"
     ]
    }
   ],
   "source": [
    "#consider an example:\n",
    "try:                                  # here we are trying to divide a number by 0. Here this codes generates an exception.\n",
    "    numerator=2                       # To handle the exception, we have put the code inside the try block.\n",
    "    denominator=0                     # When an exception occurs, the rest of the code inside the try block is skipped.\n",
    "    result=numerator/denominator      \n",
    "    print(result)\n",
    "except:                               # The except block catches the exception and statements inside the except block are execued. \n",
    "    print(\"ZeroDivisionError occur\")\n",
    "    "
   ]
  },
  {
   "cell_type": "markdown",
   "id": "6250229a-91e8-40b3-83ed-6cda9af05048",
   "metadata": {},
   "source": [
    "Q4. Explain with an example:\n",
    "    a. try and else\n",
    "    b. finally\n",
    "    c. raise"
   ]
  },
  {
   "cell_type": "code",
   "execution_count": 6,
   "id": "313036a7-65a9-4670-9860-11148846c83a",
   "metadata": {},
   "outputs": [
    {
     "name": "stdout",
     "output_type": "stream",
     "text": [
      "division by zero\n"
     ]
    }
   ],
   "source": [
    "#4.a.ans:\n",
    "def f(a,b):                           # At first define a function f.\n",
    "    try:                              # If we pass the same value for a and b in f,then ZeroDivisionError will occurr.\n",
    "        c=((a+b)/(a-b))               # To handle the exception, we have put the code,c=((a+b)/(a-b)) inside the try block\n",
    "    except ZeroDivisionError as e:    # Now when an exception occurs, the rest of the code inside the try block is skipped.\n",
    "        print(e)                      # and inside the except block are executed.\n",
    "    else:                             # If ZeroDivisioneError does not occur, then inside the else block is executed.\n",
    "        print(c)\n",
    "        \n",
    "f(2,2)        \n"
   ]
  },
  {
   "cell_type": "code",
   "execution_count": 3,
   "id": "ced64ba4-694f-4428-8089-b49f10942059",
   "metadata": {},
   "outputs": [
    {
     "name": "stdout",
     "output_type": "stream",
     "text": [
      "list index out of range\n",
      "This is always executeed\n"
     ]
    }
   ],
   "source": [
    "#4.b.ans:\n",
    "l=[1,2,3]                             # Here we are try to access and print the element of 3rd index of the list l.\n",
    "try:                                  # This code generates IndexError. The exception is caught by the except block and inside\n",
    "    x=l[3]                            # the except block are executed, and then finally block is executed.\n",
    "    print(x)\n",
    "except IndexError as e:\n",
    "    print(e)\n",
    "finally:\n",
    "    print(\"This is always executeed\")"
   ]
  },
  {
   "cell_type": "code",
   "execution_count": 5,
   "id": "b800a4a7-72c0-457d-b772-54528b39e8ff",
   "metadata": {},
   "outputs": [
    {
     "name": "stdout",
     "output_type": "stream",
     "text": [
      "An error occurred: Age must be 18 or above\n"
     ]
    }
   ],
   "source": [
    "#4.c.ans:\n",
    "def check_age(age):                                # The check_age method in this illustration accepts the input age and throws \n",
    "    if age<18:                                     # an exception if age is less than 18. The try block catches this exception  \n",
    "        raise Exception(\"Age must be 18 or above\") # and the unless block prints the error message. This demonstrates how we\n",
    "    else:                                          # can raise and handle exceptions in python.\n",
    "        print(\"Age is valid\")                      # We can raise any type of exception, such as ValueError, TypeError,KeyError\n",
    "try:                                               # ,etc to indicate specific errors in our code.\n",
    "    check_age(17)\n",
    "except Exception as e:\n",
    "    print(\"An error occurred:\",e)"
   ]
  },
  {
   "cell_type": "markdown",
   "id": "9e11bff1-b519-4b11-a85d-a96d28b3d35a",
   "metadata": {},
   "source": [
    "Q5. What are custom exceptions in python? Why do you need custom exceptions? Explain with an example."
   ]
  },
  {
   "cell_type": "markdown",
   "id": "31402232-9be3-411a-ba1f-b47d5fe3a900",
   "metadata": {},
   "source": [
    "Ans: Custom exceptions are special-purpose exceptions, created by the developer for the particuler function performed by\n",
    "     the program. These exceptions are built to ensure that the part of the program executes in proper flow.\n",
    "     2nd part:\n",
    "     Custom exceptions provide we the flexibility to add attributes and methods that are not part of a standerd Python              exception. These can store additional information, like an application-specific error code, or provide utility methods        that can be used to handle or present the exception to a user.   "
   ]
  },
  {
   "cell_type": "code",
   "execution_count": 3,
   "id": "65e00eb6-d5ed-4b3f-a77a-fedafd016647",
   "metadata": {},
   "outputs": [
    {
     "name": "stdin",
     "output_type": "stream",
     "text": [
      "Enter a no:  15\n"
     ]
    },
    {
     "name": "stdout",
     "output_type": "stream",
     "text": [
      "Exception occurred : Invalid Age\n"
     ]
    }
   ],
   "source": [
    "#Example:\n",
    "class InvalidAgeException(Exception):             #Define the custom exception InvalidAgeException\n",
    "    \"Raised when the input value is less than 18\"\n",
    "    pass\n",
    "number=18                                         # we need to guess this number\n",
    "try:\n",
    "    input_num=int(input(\"Enter a no: \"))          # if input_num is less than 18, this code generates an exception.\n",
    "    if input_num<number:                          # when exception occurs, the rest of the code inside the try block is skipped.\n",
    "        raise InvalidAgeException                 #The exception block catches the use-defined exception and statement inside \n",
    "    else:                                         #the except block are executed.\n",
    "        print(\"Eligible to vote\")\n",
    "except InvalidAgeException:\n",
    "    print(\"Exception occurred : Invalid Age\")"
   ]
  },
  {
   "cell_type": "markdown",
   "id": "6b231f75-6901-40e3-a455-c5696465ce79",
   "metadata": {},
   "source": [
    "Q6. Create a custom exception class. Use this class to handle exception."
   ]
  },
  {
   "cell_type": "code",
   "execution_count": 4,
   "id": "4732772a-08bc-4c3a-a9aa-57692d8df582",
   "metadata": {},
   "outputs": [
    {
     "name": "stdout",
     "output_type": "stream",
     "text": [
      "A New Exception occured:  6\n"
     ]
    }
   ],
   "source": [
    "#Ans:\n",
    "class MyError(Exception):\n",
    "    def __init__(self,value):\n",
    "        self.value=value\n",
    "    def __str__(self):\n",
    "        return(repr(self.value))\n",
    "try:\n",
    "    raise(MyError(3*2))\n",
    "except MyError as error:\n",
    "    print(\"A New Exception occured: \",error.value)"
   ]
  },
  {
   "cell_type": "code",
   "execution_count": null,
   "id": "2bd2bb2a-bb5c-4237-8638-bc8dff43626d",
   "metadata": {},
   "outputs": [],
   "source": []
  }
 ],
 "metadata": {
  "kernelspec": {
   "display_name": "Python 3 (ipykernel)",
   "language": "python",
   "name": "python3"
  },
  "language_info": {
   "codemirror_mode": {
    "name": "ipython",
    "version": 3
   },
   "file_extension": ".py",
   "mimetype": "text/x-python",
   "name": "python",
   "nbconvert_exporter": "python",
   "pygments_lexer": "ipython3",
   "version": "3.10.8"
  }
 },
 "nbformat": 4,
 "nbformat_minor": 5
}
